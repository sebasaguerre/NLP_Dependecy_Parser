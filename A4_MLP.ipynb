{
 "cells": [
  {
   "cell_type": "code",
   "execution_count": 22,
   "metadata": {},
   "outputs": [
    {
     "name": "stderr",
     "output_type": "stream",
     "text": [
      "[nltk_data] Downloading package brown to\n",
      "[nltk_data]     /Users/christophlaute/nltk_data...\n",
      "[nltk_data]   Package brown is already up-to-date!\n"
     ]
    }
   ],
   "source": [
    "import torch\n",
    "from torch import nn\n",
    "from torch.utils.data import Dataset, DataLoader, random_split\n",
    "import nltk, string, random, numpy, os\n",
    "import matplotlib.pyplot as plt\n",
    "from typing import List\n",
    "os.makedirs('./results', exist_ok=True)\n",
    "nltk.download('brown')\n",
    "random.seed(42)\n",
    "torch.manual_seed(42)\n",
    "numpy.random.seed(42)\n",
    "import numpy as np"
   ]
  },
  {
   "cell_type": "markdown",
   "metadata": {},
   "source": [
    "### Introduction\n",
    "In the warm-up of this assignment, we will see how Neural Networks (NN) handle natural language data.   \n",
    "The warm-up focuses on a simple Multilayer Perceptron (MLP), also known as a fully connected Neural Network. The data we'll use is the first 5000 unique words of the Brown corpus.\n",
    "\n",
    "### Dataset\n",
    "To train the model, we will have to represent the input words to the model in some way. Since models solely work with numbers, the words will have to be converted into numerical form.  \n",
    "For this assignment, we will focus on predicting individual words from the dataset given the input of the model. The input will be the target word split up into individual letters. To represent these individual letters we will give the model a vector of 26 positions (26 letters in the English alphabet). Initially, this vector is filled with zeros and for every occuring letter in the word we change the value to 1 in that position. For instance, in the word `apple', we have 1 a, 1 e, 1 l and 2 p. The vector will then represent the word as:  \n",
    "```[1,0,0,0,1,0,0,0,0,0,0,1,0,0,0,2,0,0,0,0,0,0,0,0,0,0]```  \n",
    "You will have to implement this algorithm together with loading the Brown dataset and taking the first 5000 unique words. Implement a way to store the indexes of the unique words as a dictionary where the word is the key and the index is the value as well as the target list (which will be just the indexes of the words)."
   ]
  },
  {
   "cell_type": "code",
   "execution_count": null,
   "metadata": {},
   "outputs": [],
   "source": [
    "class AlphaDataset(Dataset):\n",
    "    def __init__(self) -> None:\n",
    "        # Load the NLTK Brown corpus and store the first 5000 unique words of the corpus in self.data\n",
    "        self.data = []\n",
    "        for word in nltk.corpus.brown.words():\n",
    "            if word not in self.data:\n",
    "                self.data.append(word)\n",
    "            if len(self.data) == 5000:\n",
    "                break\n",
    "        self.word_to_idx = {word:i for i,word in enumerate(self.data)} # Convert the unique words to an index dictionary {word: index}\n",
    "        self.targets = [self.word_to_idx[word] for word in self.data] # Make these indexes the target values\n",
    "        \n",
    "\n",
    "    def __len__(self) -> int:\n",
    "        # Torch requires the implementation of the length function to calculate the number of instances in the dataset. Find a way to implement this\n",
    "        return len(self.data)\n",
    "\n",
    "    def __getitem__(self, index):\n",
    "        x = self.data[index]\n",
    "        y = self.targets[index]\n",
    "        word = list(x)\n",
    "        alphabet = list(\"abcdefghijklmnopqrstuvwxyz\")\n",
    "        alpha_dict = {ch:0 for ch in alphabet}\n",
    "        for element in word:\n",
    "            if element.lower() in alpha_dict:\n",
    "                alpha_dict[element.lower()] += 1\n",
    "        x = list(alpha_dict.values())\n",
    "        \n",
    "\n",
    "\n",
    "        # Apply processing to turn the word (stored in x) into a numeric vector of 26 numbers, counting the occurences of the letters.\n",
    "        # Example: apple would become [1,0,0,0,1,0,0,0,0,0,0,1,0,0,0,2,0,0,0,0,0,0,0,0,0,0], counting 2 occurences for the letter p and zero for letters that do not occur.\n",
    "\n",
    "        x = torch.tensor(x, dtype=torch.float32)\n",
    "        y = torch.tensor(y, dtype=torch.long)\n",
    "        return x, y\n",
    "    "
   ]
  },
  {
   "cell_type": "markdown",
   "metadata": {},
   "source": [
    "### Multilayer Perceptron\n",
    "In the following section, you will implement a MLP. The goal is to implement this MLP with 1 input layer, 2 hidden layers, and 1 output layer.\n",
    "With PyTorch, the linear layer is most suitable for this. When you create a linear layer, you define the input and output size of the layer, effectively creating two linear neuron layers. This is useful to know since we only need to create 3 linear layer classes to have the 4 layers we want.\n",
    "The hidden size is stored as a list where the first value will be 256 and the second value will be 512."
   ]
  },
  {
   "cell_type": "code",
   "execution_count": null,
   "metadata": {},
   "outputs": [],
   "source": [
    "class MLP(nn.Module):\n",
    "    def __init__(self, input_size: int, hidden_size: List[int], output_size: int) -> None:\n",
    "        super().__init__()\n",
    "        \n",
    "        # define layers of neural network \n",
    "        self.input_layer = torch.nn.Linear(input_size, hidden_size[0])\n",
    "        self.hidden_layer = torch.nn.Linear(hidden_size[0], hidden_size[1])\n",
    "        self.output_layer = torch.nn.Linear(hidden_size[1], output_size)\n",
    "        # define activation function \n",
    "        self.activation = nn.ReLU()\n",
    "\n",
    "    def forward(self, x: torch.Tensor) -> torch.Tensor:\n",
    "       \n",
    "        # forward_pass\n",
    "        x = self.input_layer(x)\n",
    "        x = self.activation(x)\n",
    "        x = self.hidden_layer(x)\n",
    "        x = self.activation(x)\n",
    "        x = self.output_layer(x)\n",
    "\n",
    "        return x"
   ]
  },
  {
   "cell_type": "markdown",
   "metadata": {},
   "source": [
    "### Setting up the hyperparameters\n",
    "These are the hyperparameters used for the model, they define the layout of the model as well as the performance:\n",
    "- batch_size, defines the number of instances the model sees at one time.\n",
    "- learning_rate, defines the change rate of the gradient descent.\n",
    "- input_size, the number of input neurons for the model, the number of letters in the alphabet\n",
    "- hidden_size, the number of neurons in the hidden layer\n",
    "- output_size, the number of neurons in the output layer, for us this is the number of unqiue words"
   ]
  },
  {
   "cell_type": "code",
   "execution_count": 25,
   "metadata": {},
   "outputs": [],
   "source": [
    "batch_size = 8\n",
    "learning_rate = 1e-5\n",
    "input_size = 26\n",
    "hidden_size = [256, 512]\n",
    "output_size = 5000\n",
    "device = 'cpu' # If you have an m1 macbook use: 'mbp', if you have an NVIDIA GPU use: 'cuda:0' else leave as is"
   ]
  },
  {
   "cell_type": "markdown",
   "metadata": {},
   "source": [
    "Setting up the dataset"
   ]
  },
  {
   "cell_type": "code",
   "execution_count": 26,
   "metadata": {},
   "outputs": [],
   "source": [
    "# Define the dataset and the dataloader\n",
    "dataset = AlphaDataset()\n",
    "\n",
    "# For the final evaluation of the model we will use 20% of the data for testing. Testing is only ever done after hyperparameter tuning.\n",
    "# Split sizes (80% train, 20% test)\n",
    "train_size = int(0.8 * len(dataset))\n",
    "test_size = len(dataset) - train_size\n",
    "train_dataset, test_dataset = random_split(dataset, [train_size, test_size])\n",
    "\n",
    "# To evaluate our model we want to take 10% of the dataset for validation, this is similar to the testset, rather this data we can use during hyperparameter tuning.\n",
    "# The validation and test data is never trained on and is unseen data for the model, making it closer to a production setting.\n",
    "train_size = int(0.9 * len(train_dataset))\n",
    "val_size = len(train_dataset) - train_size\n",
    "train_dataset, val_dataset = random_split(train_dataset, [train_size, val_size])\n",
    "\n",
    "train_loader = DataLoader(train_dataset, batch_size=batch_size, shuffle=True) # Shuffling ensures the model does not overfit on ordering of the data.\n",
    "test_loader = DataLoader(test_dataset, batch_size=batch_size, shuffle=False) # This data does not need to be shuffled\n",
    "val_loader = DataLoader(val_dataset, batch_size=batch_size, shuffle=False)  #T his data does not need to be shuffled"
   ]
  },
  {
   "cell_type": "markdown",
   "metadata": {},
   "source": [
    "### Preperation for training\n",
    "Here we load the model into memory, apply it to the selected device and define the optimizer. The optimizer guides the model to the best possible state it can be in through Gradient descent.\n",
    "Lastly, the loss function is defined, this defines how well the model performs, based on this number the model knows how it should change its weights."
   ]
  },
  {
   "cell_type": "code",
   "execution_count": 27,
   "metadata": {},
   "outputs": [],
   "source": [
    "model = MLP(input_size, hidden_size, output_size)\n",
    "model.to(device) # Tell de model which accelerator to use (Macbook GPU, NVIDIA GPU or CPU)\n",
    "\n",
    "# In Neural Networks optimizers handle the efficient training through gradient descent, we will use Adam\n",
    "optimizer = torch.optim.Adam(params=model.parameters(), lr=learning_rate)\n",
    "\n",
    "# The loss function defines how well the model is performing, if the loss is low the model is rewarded, if it is high the model is punished.\n",
    "# Since we are dealing with a classification task we will use Cross Entropy\n",
    "loss_fn = nn.CrossEntropyLoss()"
   ]
  },
  {
   "cell_type": "markdown",
   "metadata": {},
   "source": [
    "### Training\n",
    "In the next block the training block is already defined. This is a standard way to train the model for 50 epochs (50 times it will see the dataset). Each time it does one epoch we also go over the validationset."
   ]
  },
  {
   "cell_type": "code",
   "execution_count": 28,
   "metadata": {},
   "outputs": [
    {
     "name": "stdout",
     "output_type": "stream",
     "text": [
      "Training_loss: 8.547900199890137\n",
      "Validation_loss: 1.069272587299347\n",
      "Training_loss: 8.445018768310547\n",
      "Validation_loss: 1.0796424961090088\n",
      "Training_loss: 8.333843231201172\n",
      "Validation_loss: 1.0966825008392334\n",
      "Training_loss: 8.249979972839355\n",
      "Validation_loss: 1.1253840661048888\n",
      "Training_loss: 8.086389541625977\n",
      "Validation_loss: 1.168041512966156\n",
      "Training_loss: 7.980297088623047\n",
      "Validation_loss: 1.2215525555610656\n",
      "Training_loss: 7.839113712310791\n",
      "Validation_loss: 1.2805080223083496\n",
      "Training_loss: 7.582399845123291\n",
      "Validation_loss: 1.3416649556159974\n",
      "Training_loss: 7.573844909667969\n",
      "Validation_loss: 1.4032111167907715\n",
      "Training_loss: 7.5230207443237305\n",
      "Validation_loss: 1.4653269910812379\n",
      "Training_loss: 7.468615531921387\n",
      "Validation_loss: 1.5286940932273865\n",
      "Training_loss: 7.232775688171387\n",
      "Validation_loss: 1.5936280632019042\n",
      "Training_loss: 7.264202117919922\n",
      "Validation_loss: 1.6607125210762024\n",
      "Training_loss: 6.879479885101318\n",
      "Validation_loss: 1.7309213805198669\n",
      "Training_loss: 6.849304676055908\n",
      "Validation_loss: 1.8047272896766662\n",
      "Training_loss: 6.900612831115723\n",
      "Validation_loss: 1.8825154829025268\n",
      "Training_loss: 6.731730937957764\n",
      "Validation_loss: 1.9650022554397584\n",
      "Training_loss: 6.640114784240723\n",
      "Validation_loss: 2.051903986930847\n",
      "Training_loss: 6.242374897003174\n",
      "Validation_loss: 2.1437732362747193\n",
      "Training_loss: 6.228938579559326\n",
      "Validation_loss: 2.2411566972732544\n",
      "Training_loss: 6.123929977416992\n",
      "Validation_loss: 2.342975730895996\n",
      "Training_loss: 5.858461856842041\n",
      "Validation_loss: 2.4502477073669433\n",
      "Training_loss: 5.605615139007568\n",
      "Validation_loss: 2.5630780935287474\n",
      "Training_loss: 5.817350387573242\n",
      "Validation_loss: 2.6819746255874635\n",
      "Training_loss: 5.941824436187744\n",
      "Validation_loss: 2.8051279973983765\n",
      "Training_loss: 6.057456016540527\n",
      "Validation_loss: 2.9341303491592408\n",
      "Training_loss: 5.359805583953857\n",
      "Validation_loss: 3.0676478862762453\n",
      "Training_loss: 5.279741287231445\n",
      "Validation_loss: 3.2057914686203004\n",
      "Training_loss: 5.228111267089844\n",
      "Validation_loss: 3.34634458065033\n",
      "Training_loss: 5.1377105712890625\n",
      "Validation_loss: 3.492379002571106\n",
      "Training_loss: 4.717065334320068\n",
      "Validation_loss: 3.640654377937317\n",
      "Training_loss: 5.259157657623291\n",
      "Validation_loss: 3.7909967947006225\n",
      "Training_loss: 4.780025959014893\n",
      "Validation_loss: 3.9442717933654787\n",
      "Training_loss: 4.578536510467529\n",
      "Validation_loss: 4.098355412483215\n",
      "Training_loss: 5.240468978881836\n",
      "Validation_loss: 4.252707443237305\n",
      "Training_loss: 3.9271960258483887\n",
      "Validation_loss: 4.408676099777222\n",
      "Training_loss: 4.0598883628845215\n",
      "Validation_loss: 4.563614978790283\n",
      "Training_loss: 3.2675328254699707\n",
      "Validation_loss: 4.718864274024964\n",
      "Training_loss: 4.102343559265137\n",
      "Validation_loss: 4.872601914405823\n",
      "Training_loss: 3.9670660495758057\n",
      "Validation_loss: 5.026170573234558\n",
      "Training_loss: 3.8380730152130127\n",
      "Validation_loss: 5.178676266670227\n",
      "Training_loss: 4.333634853363037\n",
      "Validation_loss: 5.329248247146606\n",
      "Training_loss: 2.956143856048584\n",
      "Validation_loss: 5.477407741546631\n",
      "Training_loss: 3.3517582416534424\n",
      "Validation_loss: 5.623755273818969\n",
      "Training_loss: 3.6053237915039062\n",
      "Validation_loss: 5.767676582336426\n",
      "Training_loss: 3.4333677291870117\n",
      "Validation_loss: 5.911781644821167\n",
      "Training_loss: 3.1268527507781982\n",
      "Validation_loss: 6.052210187911987\n",
      "Training_loss: 2.859243869781494\n",
      "Validation_loss: 6.190514497756958\n",
      "Training_loss: 2.9361844062805176\n",
      "Validation_loss: 6.3282574272155765\n",
      "Training_loss: 2.7851462364196777\n",
      "Validation_loss: 6.463899593353272\n"
     ]
    }
   ],
   "source": [
    "training_losses = []\n",
    "validation_losses = []\n",
    "\n",
    "for epoch in range(50): # Train for 50 epochs\n",
    "    model.train() # Enforce model training\n",
    "    for step, (x, y) in enumerate(train_loader):\n",
    "        x = x.to(device)\n",
    "        y = y.to(device)\n",
    "\n",
    "        output = model(x)\n",
    "\n",
    "        loss = loss_fn(output, y)\n",
    "\n",
    "        training_losses.append(loss.item())\n",
    "        print(loss.item(), end='\\r')\n",
    "\n",
    "        loss.backward() # Calculate gradients\n",
    "\n",
    "        optimizer.step() # Reward the model\n",
    "        optimizer.zero_grad() # Clean the gradients\n",
    "    print('Training_loss:', loss.item())\n",
    "\n",
    "    model.eval() # After every training epoch we want to see the model's performance on the validation data\n",
    "    with torch.no_grad(): # In validation we dont need gradients so we tell torch to not calculate them\n",
    "        total_val_loss = 0\n",
    "        for step, (x, y) in enumerate(val_loader):\n",
    "            x = x.to(device)\n",
    "            y = y.to(device)\n",
    "\n",
    "            output = model(x)\n",
    "\n",
    "            loss = loss_fn(output, y)\n",
    "\n",
    "            total_val_loss += loss.item()\n",
    "\n",
    "        validation_losses.append(total_val_loss / len(val_dataset))\n",
    "        print('Validation_loss:', validation_losses[-1])"
   ]
  },
  {
   "cell_type": "markdown",
   "metadata": {},
   "source": [
    "### Writing\n",
    "Below we can print the training statistics, the training loss should be going down while the validation loss should be going up. What does it mean that the validation loss increases?\n",
    "\n",
    "[Your answer here] Swbas"
   ]
  },
  {
   "cell_type": "code",
   "execution_count": 29,
   "metadata": {},
   "outputs": [
    {
     "data": {
      "image/png": "[encoded data removed]",
      "text/plain": [
       "<Figure size 960x720 with 1 Axes>"
      ]
     },
     "metadata": {},
     "output_type": "display_data"
    }
   ],
   "source": [
    "plt.rcParams['figure.dpi'] = 150\n",
    "plt.plot(training_losses)\n",
    "plt.xlabel('steps')\n",
    "plt.ylabel('loss')\n",
    "plt.title('Training Loss')\n",
    "plt.savefig('./results/training_loss.png')"
   ]
  },
  {
   "cell_type": "code",
   "execution_count": 30,
   "metadata": {},
   "outputs": [
    {
     "data": {
      "image/png": "[encoded data removed]",
      "text/plain": [
       "<Figure size 960x720 with 1 Axes>"
      ]
     },
     "metadata": {},
     "output_type": "display_data"
    }
   ],
   "source": [
    "plt.plot(validation_losses)\n",
    "plt.xlabel('steps')\n",
    "plt.ylabel('loss')\n",
    "plt.title('Validation Loss')\n",
    "plt.savefig('./results/validation_loss.png')"
   ]
  },
  {
   "cell_type": "markdown",
   "metadata": {},
   "source": [
    "### Writing\n",
    "Belowe we want to analyze how the model functions based on the test data. What stands out from these results? Was the result correct? What is the main difference between the words?\n",
    "\n",
    "Generally it can be observed that the model performed not very good on the data. While it seems to be able to almost predict some words like immediately and league, it still failed to accurately predict those words, either predicting a different case for the word or by using a different word form of the word. With most words it completely fails to predict the correct word, instead predicting a word with a completely different semantic meaning. The model seems to perform especially bad with short words. What stands out in the differences between the words is that although the model fails at predicting the correct word it does seem to correctly predict most letters occuring in a word, since the predicted and observed words share most letters. "
   ]
  },
  {
   "cell_type": "code",
   "execution_count": 31,
   "metadata": {},
   "outputs": [
    {
     "name": "stdout",
     "output_type": "stream",
     "text": [
      "target: immediately      predicted: immediate\n",
      "target: drifts           predicted: first\n",
      "target: league           predicted: League\n",
      "target: Hunter           predicted: turned\n",
      "target: influence        predicted: influences\n",
      "target: done             predicted: wooden\n",
      "target: Clifford         predicted: official\n",
      "target: plenary          predicted: nearly\n",
      "target: enforcement      predicted: conference\n",
      "target: live             predicted: eligible\n"
     ]
    },
    {
     "name": "stderr",
     "output_type": "stream",
     "text": [
      "/var/folders/_9/q20vv8ss26d48h9872glly8h0000gn/T/ipykernel_10978/2019737341.py:7: UserWarning: Implicit dimension choice for softmax has been deprecated. Change the call to include dim=X as an argument.\n",
      "  out = [nn.functional.softmax(model(wrd)).argmax() for wrd in x]\n"
     ]
    }
   ],
   "source": [
    "def get_n_words(dataset, n, model, ds, verbose = True):\n",
    "    if n == -1:\n",
    "        n = len(dataset)\n",
    "    x = [dataset.__getitem__(i)[0] for i in range(n)]\n",
    "    y = [dataset.__getitem__(i)[1] for i in range(n)]\n",
    "    target_words = [{idx: word for word, idx in ds.word_to_idx.items()}[_.item()] for _ in y]\n",
    "    out = [nn.functional.softmax(model(wrd)).argmax() for wrd in x]\n",
    "    predicted_words = [{idx: word for word, idx in ds.word_to_idx.items()}[_.item()] for _ in out]\n",
    "    width = max(len(word) for word in target_words) + 5\n",
    "    if verbose:\n",
    "        print('\\n'.join([f'target: {t.ljust(width)} predicted: {p}' for t, p in zip(target_words, predicted_words)]))\n",
    "    return target_words, predicted_words\n",
    "\n",
    "_,_ = get_n_words(test_dataset, 10, model, dataset)"
   ]
  },
  {
   "cell_type": "markdown",
   "metadata": {},
   "source": [
    "Why are some words incorrectly predicted?\n",
    "\n",
    "There are several issues preventing the model from predicting the correct word. First of all the model seemed to have overfit on the training data, leading it to generalize poorly on the test data. Furthermore, the model suffers from a badly fitting input representation. While the current Bag of letters approach is easy to implement, it comes at the detriment that no positional information is encoded, which leads to words that share the same words but in similar order to have the same vector representation, making it impossible for the model not to confuse these words. The same can be said in cases where two words do not contain the same letter frequencies but similar ones, preventing the model from accurately making predictions. Furthermore, the input representation has no context information, making it hard for the model to predict the correct word since it does not have access to semantic information. The increased confusion of the model with shorter words can be due to shorter words having less unique letter frequencies compared to larger words."
   ]
  },
  {
   "cell_type": "markdown",
   "metadata": {},
   "source": [
    "### Code + Written\n",
    "Research the Jaccard similarity metric for calculating the difference between the predicted word and the target word. Reference your sources and implement this metric in your code below. You can use the get_n_words function with n=-1 to get all the predicted and target words. Compare this method to similarity as measured with one of the word vector methods from A2, in writing and/or code.\n",
    "\n",
    "The Jaccard similarity metric is a common metric to compute the similarity between two sets (Zhou,2023). Therefore it is excellent for NLP tasks since it can measure the similarity between words or texts in natural language. It is computed as the length of the intersections of the two sets divided by the length of the union of the two sets $J(A, B) = \\frac{|A \\cap B|}{|A \\cup B|}$. They are therefore a ratio of the elements both sets have in common divided by all elements in both sets or words/documents in the case of NLP(Sandhya & Govardhan, 2012). Due to the fact that it takes the size of the sets into account, size has not a strong effect on the metric in most cases. Moreover, it can be generalized to a wide range of applications. On the other hand it may miss the direction of the divergence of the strings since it does not take the angles of the strings into account. Furthermore, it does not encode meaning and is unable to handle paraprhased words, since it only determines of exact matches (Kanishkaa & Santhi, 2025). Another limitation is that in very small words it may overinflate similarity if only one or few letters are similar. \n",
    "\n",
    "Cosine similarity on the other hand calculates the angle of two vectors in their dot product space in the following way:$ \\cos(\\theta) = \\frac{\\vec{A} \\cdot \\vec{B}}{||\\vec{A}|| \\, ||\\vec{B}||} $ (Zahrotun,2016). Cosine similarity, similarly to jaccard similarity also takes vector length into account and even handles cases where the vectors have different lengths. Due to the fact that it encodes the angle between word vectors it can give information about the direction of deviations. Furthermore, it can detect semantic similarity if done on dense vector encodings. \n",
    "\n",
    "Cosine Similarity and Jaccard similarity both aim to describe word similarity. Nevertheless, differences have been shown in research in the performance of the two metrics. Kanishkaa & Santhi (2025) have found, that even though the jaccard similarity metric was better at determining exact matches, cosine similarity outperfomred the jaccard similarity matrix in cases where there were more deviations but the semantic meaning was similar, such as in paraphrased sentences. This also highlights the fact that both metrics can be more suited for different tasks. In cases where exact word matching is important, jaccard similarity can be a good choice, whereas cosine similarity can be a better option if exact matching is less important and semantic matching is of greater relevance. Furthermore Jaccard similarity is frequency insensitive, meaning that repetitions of the same letter in our case does not count towards similarity, cosine similarity on the other hand  would. \n",
    "\n",
    "Due to the fact that it is frequency sensitive and less sensitive to small vectors cosine similarity might prove more beneficial in the case of our bag of character word prediction problem.\n",
    "\n",
    "\n",
    "References:\n",
    "Kanishkaa, S., Santhi, K., IJIREEICE, & Department of Information Technology, Dr N.G.P Arts and Science College, Coimbatore, Tamil Nadu, India. (2025). A COMPARATIVE ANALYSIS OF JACCARD AND COSINE SIMILARITY FOR PLAGIARISM DETECTION. In IJIREEICE, International Journal of Innovative Research in Electrical, Electronics, Instrumentation and Control Engineering (Vols. 13–13, Issue 3, pp. 59–60) [Journal-article]. https://doi.org/10.17148/IJIREEICE.2025.13309\n",
    "\n",
    "Sandhya, N., Govardhan, A. (2012). Analysis of Similarity Measures with WordNet Based Text Document Clustering. In: Satapathy, S.C., Avadhani, P.S., Abraham, A. (eds) Proceedings of the International Conference on Information Systems Design and Intelligent Applications 2012 (INDIA 2012) held in Visakhapatnam, India, January 2012. Advances in Intelligent and Soft Computing, vol 132. Springer, Berlin, Heidelberg. https://doi.org/10.1007/978-3-642-27443-5_80\n",
    "\n",
    "Zahrotun, Lisna. (2016). Comparison Jaccard similarity, Cosine Similarity and Combined Both of the Data Clustering With Shared Nearest Neighbor Method. Computer Engineering and Applications Journal. 5. 11-18. 10.18495/comengapp.v5i1.160. \n",
    "\n",
    "Zhou, Connie. Understanding Jaccard Similarity: A Powerful Tool for Data Analysis. Medium, 17 Oct. 2023, https://medium.com/@conniezhou678/understanding-jaccard-similarity-a-powerful-tool-for-data-analysis-42abaaafd782."
   ]
  },
  {
   "cell_type": "code",
   "execution_count": null,
   "metadata": {},
   "outputs": [],
   "source": [
    "def jaccard_sim(x: np.array | set, y: np.array | set) -> float :\n",
    "    \"\"\"\n",
    "    Jaccard similarity between two sets or binary vectors\n",
    "    Jaccard similarity =  x ∩ y / x ∪ y  \n",
    "    \"\"\"\n",
    "    # inputs are sets \n",
    "    if type(x) == \"set\" and type(y) == \"set\":\n",
    "\n",
    "        return len(x & y) / len(x | y)\n",
    "    # inputs are binary vectros \n",
    "    else:\n",
    "        # extract elements from binary vectors\n",
    "        set_x = set(np.where(x == 1)[0])\n",
    "        set_y = set(np.where(y == 1)[0])\n",
    "\n",
    "        return len(set_x & set_y) / len(set_x | set_y)\n"
   ]
  },
  {
   "cell_type": "code",
   "execution_count": null,
   "metadata": {},
   "outputs": [],
   "source": [
    "def cos_sim(x : np.array, y : np.array) -> float:\n",
    "    \"\"\"\n",
    "    Cosine similarity  between two vectors\n",
    "    cos(theta) = <x, y> / (||x, x|| * ||y, y||)\n",
    "    \"\"\"\n",
    "    # get norms and dot product\n",
    "    x_dot_y = np.dot(x, y)\n",
    "    norm_x = np.sqrt(np.dot(x, x))\n",
    "    norm_y = np.sqrt(np.dot(y, y))\n",
    "\n",
    "    # check if either norms are zero \n",
    "    if norm_x == 0 or norm_y == 0:\n",
    "\n",
    "        return 0.0 \n",
    "    else:\n",
    "        \n",
    "        return x_dot_y / (norm_x * norm_y)"
   ]
  }
 ],
 "metadata": {
  "kernelspec": {
   "display_name": "DSML",
   "language": "python",
   "name": "python3"
  },
  "language_info": {
   "codemirror_mode": {
    "name": "ipython",
    "version": 3
   },
   "file_extension": ".py",
   "mimetype": "text/x-python",
   "name": "python",
   "nbconvert_exporter": "python",
   "pygments_lexer": "ipython3",
   "version": "3.12.3"
  }
 },
 "nbformat": 4,
 "nbformat_minor": 2
}
